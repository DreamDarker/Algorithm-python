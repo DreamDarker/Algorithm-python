{
 "cells": [
  {
   "cell_type": "markdown",
   "metadata": {},
   "source": [
    "# Assignment II \n",
    "## Lists Exercises:\n",
    "### Exercise 1: List Basics\n",
    "<p>Create an empty list called my_list.<br>\n",
    "Append the numbers 1, 2, and 3 to my_list.<br>\n",
    "Print the length of the list.<br>\n",
    "Remove the last element from the list and print the updated list.</p>"
   ]
  },
  {
   "cell_type": "code",
   "execution_count": 342,
   "metadata": {},
   "outputs": [
    {
     "name": "stdout",
     "output_type": "stream",
     "text": [
      "length of list: 3\n",
      "[1, 2]\n"
     ]
    }
   ],
   "source": [
    "my_list = []\n",
    "my_list.append(1)\n",
    "my_list.insert(len(my_list), 2)\n",
    "my_list.extend([3])\n",
    "print('length of list:', len(my_list))\n",
    "my_list = my_list[:-1]\n",
    "# my_list.pop()\n",
    "print(my_list)"
   ]
  },
  {
   "cell_type": "markdown",
   "metadata": {},
   "source": [
    "### Exercise 2: List Slicing\n",
    "<p>Create a list of numbers from 1 to 10.<br>\n",
    "Use slicing to extract the elements from index 3 to 7 (inclusive).<br>\n",
    "Print the sliced elements.</p>"
   ]
  },
  {
   "cell_type": "code",
   "execution_count": 343,
   "metadata": {},
   "outputs": [
    {
     "name": "stdout",
     "output_type": "stream",
     "text": [
      "list: [1, 2, 3, 4, 5, 6, 7, 8, 9, 10]\n",
      "slice(index 3-7): [4, 5, 6, 7, 8]\n"
     ]
    }
   ],
   "source": [
    "num_list = [i for i in range(1,11)]\n",
    "print('list:', num_list)\n",
    "slice_of_num_list = num_list[3:8]\n",
    "print('slice(index 3-7):', slice_of_num_list)"
   ]
  },
  {
   "cell_type": "markdown",
   "metadata": {},
   "source": [
    "### Exercise 3: List Comprehension\n",
    "<p>Create a list of numbers from 1 to 10.<br>\n",
    "Use list comprehension to create a new list containing the squares of each number.<br>\n",
    "Print the new list.</p>"
   ]
  },
  {
   "cell_type": "code",
   "execution_count": 344,
   "metadata": {},
   "outputs": [
    {
     "name": "stdout",
     "output_type": "stream",
     "text": [
      "list: [1, 2, 3, 4, 5, 6, 7, 8, 9, 10]\n",
      "squares: [1, 4, 9, 16, 25, 36, 49, 64, 81, 100]\n"
     ]
    }
   ],
   "source": [
    "num_list = [i for i in range(1,11)]\n",
    "print('list:', num_list)\n",
    "square_of_num_list = [i*i for i in num_list]\n",
    "print('squares:', square_of_num_list)"
   ]
  },
  {
   "cell_type": "markdown",
   "metadata": {},
   "source": [
    "### Exercise 4: List Manipulation\n",
    "<p>Create a list of strings.<br>\n",
    "Sort the list in alphabetical order.<br>\n",
    "Reverse the order of the list.<br>\n",
    "Add the elements 'apple' and 'banana' to the beginning of the list.<br>\n",
    "Remove the first occurrence of 'banana' from the list.</p>"
   ]
  },
  {
   "cell_type": "code",
   "execution_count": 345,
   "metadata": {},
   "outputs": [
    {
     "name": "stdout",
     "output_type": "stream",
     "text": [
      "['q', 't', 'w', 'y', 't']\n",
      "sort: ['q', 't', 't', 'w', 'y']\n",
      "reverse: ['y', 'w', 't', 't', 'q']\n",
      "insert 'apple' and 'banana': ['apple', 'banana', 'y', 'w', 't', 't', 'q']\n",
      "remove 'banana': ['apple', 'y', 'w', 't', 't', 'q']\n"
     ]
    }
   ],
   "source": [
    "string_list = [chr(ord('z') - random.randint(1, 10)) for i in range(5)]\n",
    "print(string_list)\n",
    "string_list.sort()\n",
    "print('sort:', string_list)\n",
    "string_list.reverse()\n",
    "print('reverse:', string_list)\n",
    "string_list.insert(0, 'apple')\n",
    "string_list.insert(1, 'banana')\n",
    "print(\"insert 'apple' and 'banana':\", string_list)\n",
    "string_list.remove('banana')\n",
    "print(\"remove 'banana':\", string_list)"
   ]
  },
  {
   "cell_type": "markdown",
   "metadata": {},
   "source": [
    "### Exercise 5: Nested Lists\n",
    "<p>Create a list of lists (a 2D list) representing a matrix.<br>\n",
    "Write code to transpose the matrix (swap rows with columns).<br>\n",
    "Print the transposed matrix.</p>\n"
   ]
  },
  {
   "cell_type": "code",
   "execution_count": 346,
   "metadata": {},
   "outputs": [
    {
     "name": "stdout",
     "output_type": "stream",
     "text": [
      "matrix: [[1, 2, 3], [4, 5, 6]]\n",
      "tansposed: [[1, 4], [2, 5], [3, 6]]\n"
     ]
    }
   ],
   "source": [
    "def transpose(m):\n",
    "    res = [[row[i] for row in m] for i in range(len(m[0]))]\n",
    "    return res\n",
    "            \n",
    "            \n",
    "matrix = [[1, 2, 3], [4, 5, 6]]\n",
    "print('matrix:', matrix)\n",
    "print('tansposed:', transpose(matrix))\n"
   ]
  },
  {
   "cell_type": "markdown",
   "metadata": {},
   "source": [
    "### Exercise 6: List Operations\n",
    "<p>Create two lists, list1 and list2, with some overlapping elements.<br>\n",
    "Find and print the common elements between the two lists.<br>\n",
    "Create a new list containing the elements that are unique to each list.</p>\n"
   ]
  },
  {
   "cell_type": "code",
   "execution_count": 347,
   "metadata": {},
   "outputs": [
    {
     "name": "stdout",
     "output_type": "stream",
     "text": [
      "list1: [2, 1, 10, 4, 6, 8]\n",
      "list2: [4, 3, 5, 1, 10, 2]\n",
      "common elements: [1, 2, 4, 10]\n",
      "unique elements: [3, 5, 6, 8]\n"
     ]
    }
   ],
   "source": [
    "def fun1(l1, l2):\n",
    "    common = []\n",
    "    unique = []\n",
    "    for i in l1:\n",
    "        for j in l2:\n",
    "            if i==j:\n",
    "                # print(\"common elements:\", i)\n",
    "                common.append(i)\n",
    "    for i in common:\n",
    "        l1.remove(i)\n",
    "        l2.remove(i)\n",
    "    unique.extend(l1)\n",
    "    unique.extend(l2)\n",
    "    common.sort()\n",
    "    unique.sort()\n",
    "    print(\"common elements:\", common)\n",
    "    print(\"unique elements:\", unique)\n",
    "    \n",
    "list1 = random.sample(range(1, 11), 6)\n",
    "list2 = random.sample(range(1, 11), 6)\n",
    "print('list1:', list1)\n",
    "print('list2:', list2)\n",
    "fun1(list1, list2)\n"
   ]
  },
  {
   "cell_type": "markdown",
   "metadata": {},
   "source": [
    "### Exercise 7: List Filtering\n",
    "<p>Create a list of numbers.<br>\n",
    "Use filter() to create a new list containing only even numbers.</p>"
   ]
  },
  {
   "cell_type": "code",
   "execution_count": 348,
   "metadata": {},
   "outputs": [
    {
     "name": "stdout",
     "output_type": "stream",
     "text": [
      "list1: [1, 2, 5, 7, 8, 9]\n",
      "even numbers in list1: [2, 8]\n"
     ]
    }
   ],
   "source": [
    "def is_even(n):\n",
    "    return n%2 == 0\n",
    "\n",
    "list1 = random.sample(range(1, 11), 6)\n",
    "list1.sort()\n",
    "print('list1:', list1)\n",
    "print('even numbers in list1:', list(filter(is_even, list1)))"
   ]
  },
  {
   "cell_type": "markdown",
   "metadata": {},
   "source": [
    "## Sets Exercises:\n",
    "### Exercise 1: Set Basics\n",
    "<p>Create an empty set called my_set.<br>\n",
    "Add the numbers 1, 2, and 3 to my_set.<br>\n",
    "Print the length of the set.<br>\n",
    "Remove the number 2 from the set and print the updated set.</p>\n"
   ]
  },
  {
   "cell_type": "code",
   "execution_count": 349,
   "metadata": {},
   "outputs": [
    {
     "name": "stdout",
     "output_type": "stream",
     "text": [
      "length of my_set: 3\n",
      "updated set: {1, 3}\n"
     ]
    }
   ],
   "source": [
    "my_set = set()\n",
    "my_set.add(1)\n",
    "my_set.add(2)\n",
    "my_set.add(3)\n",
    "print('length of my_set:', len(my_set))\n",
    "my_set.remove(2)\n",
    "print('updated set:', my_set)"
   ]
  },
  {
   "cell_type": "markdown",
   "metadata": {},
   "source": [
    "### Exercise 2: Set Operations\n",
    "<p>Create two sets, set1 and set2, with some common elements.<br>\n",
    "Find and print the intersection of the two sets.<br>\n",
    "Find and print the union of the two sets.<br>\n",
    "Find and print the elements that are unique to each set (symmetric difference).</p>"
   ]
  },
  {
   "cell_type": "code",
   "execution_count": 350,
   "metadata": {},
   "outputs": [
    {
     "name": "stdout",
     "output_type": "stream",
     "text": [
      "set1: {1, 2, 4, 6, 7, 8, 10}\n",
      "set2: {2, 3, 4, 6, 8, 9, 10}\n",
      "intersection: {2, 4, 6, 8, 10}\n",
      "union: {1, 2, 3, 4, 6, 7, 8, 9, 10}\n",
      "symmetric difference: {1, 3, 7, 9}\n"
     ]
    }
   ],
   "source": [
    "set1 = set([random.randint(1, 10) for i in range(10)])\n",
    "set2 = set([random.randint(1, 10) for i in range(10)])\n",
    "print('set1:', set1)\n",
    "print('set2:', set2)\n",
    "print('intersection:', set1.intersection(set2))\n",
    "print('union:', set1.union(set2))\n",
    "print('symmetric difference:', set1.symmetric_difference(set2))"
   ]
  },
  {
   "cell_type": "markdown",
   "metadata": {},
   "source": [
    "### Exercise 3: Set Comprehension\n",
    "<p>Create a list of numbers.<br>\n",
    "Use set comprehension to create a new set containing only unique even numbers from the list.<br>\n",
    "Print the new set.</p>"
   ]
  },
  {
   "cell_type": "code",
   "execution_count": 351,
   "metadata": {},
   "outputs": [
    {
     "name": "stdout",
     "output_type": "stream",
     "text": [
      "list1: [1, 2, 5, 8, 9, 10, 13, 15, 16, 19]\n",
      "even numbers in list1: {8, 16, 2, 10}\n"
     ]
    }
   ],
   "source": [
    "list1 = random.sample(range(1, 21), 10)\n",
    "list1.sort()\n",
    "print('list1:', list1)\n",
    "even_numbers = {i for i in list1 if i % 2 == 0}\n",
    "print('even numbers in list1:', even_numbers)"
   ]
  },
  {
   "cell_type": "markdown",
   "metadata": {},
   "source": [
    "### Exercise 4: Set Manipulation\n",
    "<p>Create a set of fruits.<br>\n",
    "Add 'orange' and 'banana' to the set.<br>\n",
    "Remove 'apple' from the set if it exists(without raising an error).</p>"
   ]
  },
  {
   "cell_type": "code",
   "execution_count": 352,
   "metadata": {},
   "outputs": [
    {
     "name": "stdout",
     "output_type": "stream",
     "text": [
      "added: {'apple', 'orange', 'strawberry', 'mango', 'grape', 'banana'}\n",
      "remove apple: {'orange', 'strawberry', 'mango', 'grape', 'banana'}\n"
     ]
    }
   ],
   "source": [
    "def remove(set, str):\n",
    "    if str in set:\n",
    "        set.remove(str)\n",
    "    \n",
    "fruits = {\"apple\", \"mango\", \"strawberry\", \"grape\"}\n",
    "fruits.add(\"orange\")\n",
    "fruits.add(\"banana\")\n",
    "print(\"added:\", fruits)\n",
    "# remove(fruits, 'apple')\n",
    "fruits.remove('apple')\n",
    "print(\"remove apple:\", fruits)\n"
   ]
  },
  {
   "cell_type": "markdown",
   "metadata": {},
   "source": [
    "### Exercise 5: Set Operations with Lists\n",
    "<p>Create a list of numbers.<br>\n",
    "Convert the list to a set to remove duplicates.<br>\n",
    "Convert the set back to a sorted list.<br>\n",
    "Print the sorted list.</p>"
   ]
  },
  {
   "cell_type": "code",
   "execution_count": 353,
   "metadata": {},
   "outputs": [
    {
     "name": "stdout",
     "output_type": "stream",
     "text": [
      "list1: [6, 3, 3, 3, 4, 2, 1, 3, 1, 1]\n",
      "remove duplicates and sorted: [1, 2, 3, 4, 6]\n"
     ]
    }
   ],
   "source": [
    "list1 = [random.randint(1, 8) for i in range(10)]\n",
    "print('list1:', list1)\n",
    "list1 = list(set(list1))\n",
    "list1.sort()\n",
    "print(\"remove duplicates and sorted:\", list1)"
   ]
  },
  {
   "cell_type": "markdown",
   "metadata": {},
   "source": [
    "### Exercise 6: Set Filtering\n",
    "<p>Create a set of words.<br>\n",
    "Use a set comprehension to create a new set containing only words longer than 5 characters.</p>"
   ]
  },
  {
   "cell_type": "code",
   "execution_count": 354,
   "metadata": {},
   "outputs": [
    {
     "name": "stdout",
     "output_type": "stream",
     "text": [
      "words longer than 5 charactors: {'comprehension', 'python'}\n"
     ]
    }
   ],
   "source": [
    "def words_longer_than_5_char(s):\n",
    "    res = {i for i in s if len(i) > 5}\n",
    "    return res\n",
    "    \n",
    "words = {\"list\", \"set\", \"dict\", \"python\", \"comprehension\"}\n",
    "words = words_longer_than_5_char(words)\n",
    "print('words longer than 5 charactors:', words)  "
   ]
  },
  {
   "cell_type": "markdown",
   "metadata": {},
   "source": [
    "## Dictionaries Ex\n",
    "\n",
    "### Exercise 1: Dictionary Basics\n",
    "<p>Create an empty dictionary called my_dict.<br>\n",
    "Add key-value pairs to my_dict for the following: 'name', 'age', 'city', and 'country'.<br>\n",
    "Print the value associated with the 'age' key.</p>\n"
   ]
  },
  {
   "cell_type": "code",
   "execution_count": 355,
   "metadata": {},
   "outputs": [
    {
     "name": "stdout",
     "output_type": "stream",
     "text": [
      "age in my_dict: 24\n"
     ]
    }
   ],
   "source": [
    "my_dict = dict()\n",
    "my_dict.update({'name': 'Dre4m', \n",
    "                'age': 24, \n",
    "                'city': 'Wuhan', \n",
    "                'country': 'China'})\n",
    "print('age in my_dict:', my_dict['age'])"
   ]
  },
  {
   "cell_type": "markdown",
   "metadata": {},
   "source": [
    "### Exercise 2: Access and Modify Dictionary\n",
    "<p>Create a dictionary called student with the following keys and values: 'name', 'age', 'grade' (e.g., 'John', 20, 'A').<br>\n",
    "Change the 'age' to 21.<br>\n",
    "Add a new key-value pair for 'school' (e.g., 'XYZ High School').<br>\n",
    "Print the updated dictionary.</p>"
   ]
  },
  {
   "cell_type": "code",
   "execution_count": 356,
   "metadata": {},
   "outputs": [
    {
     "name": "stdout",
     "output_type": "stream",
     "text": [
      "students: {'name': 'john', 'age': 21, 'grade': 'A', 'school': 'XYZ High School'}\n"
     ]
    }
   ],
   "source": [
    "student = dict({'name': 'john', \n",
    "                'age': '20', \n",
    "                'grade': 'A'})\n",
    "student.update({'age': 21})\n",
    "student.update({'school': 'XYZ High School'})\n",
    "print('students:', student)"
   ]
  },
  {
   "cell_type": "markdown",
   "metadata": {},
   "source": [
    "### Exercise 3: Looping Through Dictionaries\n",
    "<p>Create a dictionary called fruits with fruit names as keys and their prices as values.<br>\n",
    "Write a loop to print each fruit and its price.<br>\n",
    "Calculate the total cost of all the fruits in the dictionary.</p>"
   ]
  },
  {
   "cell_type": "code",
   "execution_count": 357,
   "metadata": {},
   "outputs": [
    {
     "name": "stdout",
     "output_type": "stream",
     "text": [
      "price of apple is : 10\n",
      "price of mango is : 20\n",
      "price of strawberry is : 30\n",
      "price of grape is : 40\n",
      "total price: 100\n"
     ]
    }
   ],
   "source": [
    "def show_price(d):\n",
    "    res = 0\n",
    "    for key, value in d.items():\n",
    "        print(\"price of\", key, \"is :\", value)\n",
    "        res += value\n",
    "    return res\n",
    "\n",
    "fruits = dict({\"apple\": 10, \"mango\": 20, \"strawberry\": 30, \"grape\": 40})\n",
    "print('total price:',show_price(fruits))\n",
    "        "
   ]
  },
  {
   "cell_type": "markdown",
   "metadata": {},
   "source": [
    "### Exercise 4: Dictionary Comprehension\n",
    "<p>Create two lists: one with student names and another with their corresponding scores.<br>\n",
    "Use a dictionary comprehension to create a dictionary where names are keys and scores are values.<br>\n",
    "Print the dictionary.</p>\n"
   ]
  },
  {
   "cell_type": "code",
   "execution_count": 358,
   "metadata": {},
   "outputs": [
    {
     "name": "stdout",
     "output_type": "stream",
     "text": [
      "students and score: {'John': '59', 'Bob': '70', 'David': '85', 'Mike': '92'}\n"
     ]
    }
   ],
   "source": [
    "def fun2(stu, score):\n",
    "    res = {stu[i]: score[i] for i in range(len(stu))}\n",
    "    for i in range(len(stu)):\n",
    "        dict.update({stu[i]: score[i]})\n",
    "    return res\n",
    "    \n",
    "students = list(['John', 'Bob', 'David', 'Mike'])\n",
    "scores = list(['59', '70', '85', '92'])\n",
    "print('students and score:', fun2(students, scores))\n"
   ]
  },
  {
   "cell_type": "markdown",
   "metadata": {},
   "source": [
    "### Exercise 5: Counting Occurrences\n",
    "<p>Create a list of numbers with some duplicates.<br>\n",
    "Use a dictionary to count the occurrences of each number in the list.<br>\n",
    "Print the number with the highest count.</p>\n"
   ]
  },
  {
   "cell_type": "code",
   "execution_count": 359,
   "metadata": {},
   "outputs": [
    {
     "name": "stdout",
     "output_type": "stream",
     "text": [
      "list1 [4, 2, 4, 6, 8, 3, 8, 1, 3, 5]\n",
      "counts {4: 2, 2: 1, 6: 1, 8: 2, 3: 2, 1: 1, 5: 1}\n",
      "max number is: 4 , which occurs 2 times\n",
      "max number is: 8 , which occurs 2 times\n",
      "max number is: 3 , which occurs 2 times\n"
     ]
    }
   ],
   "source": [
    "def freq(list):\n",
    "    counts = dict()\n",
    "    for i in list:\n",
    "        if i in counts:\n",
    "            counts[i] += 1\n",
    "        else:\n",
    "            counts[i] = 1\n",
    "    return counts\n",
    "        \n",
    "def highest_count(d):\n",
    "    for key in d.keys():\n",
    "        if d[key] == max(d.values()):\n",
    "            print('max number is:', key, ', which occurs', d[key], 'times')    \n",
    "    \n",
    "list1 = [random.randint(1, 8) for i in range(10)]\n",
    "print('list1', list1)\n",
    "counts = freq(list1)\n",
    "print('counts', counts)\n",
    "highest_count(counts)"
   ]
  },
  {
   "cell_type": "markdown",
   "metadata": {},
   "source": [
    "### Exercise 6: Merging Dictionaries\n",
    "<p>Create two dictionaries, dict1 and dict2, with some overlapping keys.<br>\n",
    "Merge these dictionaries into a new dictionary called merged_dict.<br>\n",
    "Ensure that values from dict2 overwrite values from dict1 for the same keys.</p>\n"
   ]
  },
  {
   "cell_type": "code",
   "execution_count": 360,
   "metadata": {},
   "outputs": [
    {
     "name": "stdout",
     "output_type": "stream",
     "text": [
      "merged_dict {'apple': 4, 'banana': 2, 'cherry': 3, 'orange': 5, 'pear': 6}\n"
     ]
    }
   ],
   "source": [
    "dict1 = {\n",
    "    \"apple\": 1,\n",
    "    \"banana\": 2,\n",
    "    \"cherry\": 3,\n",
    "}\n",
    "dict2 = {\n",
    "    \"apple\": 4,\n",
    "    \"orange\": 5,\n",
    "    \"pear\": 6,\n",
    "}\n",
    "merged_dict = dict1.copy()\n",
    "merged_dict.update(dict2)\n",
    "print('merged_dict', merged_dict)\n"
   ]
  },
  {
   "cell_type": "markdown",
   "metadata": {},
   "source": [
    "### Exercise 7: Nested Dictionaries\n",
    "<p>Create a dictionary called family with family members as keys and their details (nested dictionaries) as values. Include 'name', 'age', and 'relationship' for each member.<br>\n",
    "Print the details of a specific family member.</p>\n"
   ]
  },
  {
   "cell_type": "code",
   "execution_count": 361,
   "metadata": {},
   "outputs": [
    {
     "name": "stdout",
     "output_type": "stream",
     "text": [
      "Name: John\n",
      "Age: 45\n",
      "Relationship: father\n"
     ]
    }
   ],
   "source": [
    "def print_family_member_details(member_name, f):\n",
    "    if member_name in f.keys():\n",
    "        # if member_name == value.get('name'):\n",
    "        print(\"Name:\", f[member_name].get('name'))\n",
    "        print(\"Age:\", f[member_name].get('age'))\n",
    "        print(\"Relationship:\", f[member_name].get('relationship'))\n",
    "\n",
    "family = {\n",
    "    \"parent1\": {\n",
    "      \"name\": \"John\",\n",
    "      \"age\": 45,\n",
    "      \"relationship\": \"father\"\n",
    "    },\n",
    "    \"parent2\": {\n",
    "      \"name\": \"Jane\",\n",
    "      \"age\": 42,\n",
    "      \"relationship\": \"mother\"\n",
    "    },\n",
    "    \"child1\": {\n",
    "      \"name\": \"Mary\",\n",
    "      \"age\": 16,\n",
    "      \"relationship\": \"daughter\"\n",
    "    },\n",
    "    \"child2\": {\n",
    "      \"name\": \"Michael\",\n",
    "      \"age\": 14,\n",
    "      \"relationship\": \"son\"\n",
    "    }\n",
    "}\n",
    "\n",
    "print_family_member_details('parent1', family)"
   ]
  },
  {
   "cell_type": "markdown",
   "metadata": {},
   "source": [
    "### Exercise 8: Dictionary Operations\n",
    "<p>Create a dictionary called inventory with items and their quantities.<br>\n",
    "Write a function to add an item to the inventory.<br>\n",
    "Write a function to remove an item from the inventory.<br>\n",
    "Calculate the total value of the inventory (quantity * item price).</p>\n"
   ]
  },
  {
   "cell_type": "code",
   "execution_count": 362,
   "metadata": {},
   "outputs": [
    {
     "name": "stdout",
     "output_type": "stream",
     "text": [
      "inventory: {'apple': 15, 'orange': 2, 'banana': 20}\n",
      "price: {'apple': 1.0, 'orange': 0.5, 'banana': 0.25}\n",
      "total price: 21.0\n"
     ]
    }
   ],
   "source": [
    "inventory = {\n",
    "  \"apple\": 10,\n",
    "  \"orange\": 5,\n",
    "  \"banana\": 20,\n",
    "}\n",
    "\n",
    "item_price = {\n",
    "  \"apple\": 1.00,\n",
    "  \"orange\": 0.50,\n",
    "  \"banana\": 0.25,\n",
    "}\n",
    "\n",
    "def add_item(item, quantity):\n",
    "  if item in inventory:\n",
    "    inventory[item] += quantity\n",
    "  else:\n",
    "    inventory[item] = quantity\n",
    "\n",
    "def remove_item(item, quantity):\n",
    "  if item in inventory:\n",
    "    if inventory[item] >= quantity:\n",
    "      inventory[item] -= quantity\n",
    "    else:\n",
    "      print(\"Not enough items in inventory\")\n",
    "  else:\n",
    "    print(\"Item not in inventory\")\n",
    "\n",
    "def calculate_total_value():\n",
    "  total_value = 0\n",
    "  for item, quantity in inventory.items():\n",
    "    total_value += quantity * item_price[item]\n",
    "  return total_value\n",
    "\n",
    "add_item(\"apple\", 5)\n",
    "remove_item(\"orange\", 3)\n",
    "\n",
    "print('inventory:', inventory)\n",
    "print('price:', item_price)\n",
    "print('total price:', calculate_total_value())\n"
   ]
  },
  {
   "cell_type": "markdown",
   "metadata": {},
   "source": [
    "### Exercise 9: Dictionary Sorting\n",
    "<p>Create a dictionary with words as keys and their frequencies as values.<br>\n",
    "Sort the dictionary by frequency in descending order.<br>\n",
    "Print the top 5 most frequent words.</p>\n"
   ]
  },
  {
   "cell_type": "code",
   "execution_count": 363,
   "metadata": {},
   "outputs": [
    {
     "name": "stdout",
     "output_type": "stream",
     "text": [
      "{'the': 7, 'people': 3, 'I': 3, 'few': 2, 'to': 2, 'that': 2, 'his': 2, 'and': 2, 'We': 1, 'knew': 1, 'world': 1, 'would': 1, 'not': 1, 'be': 1, 'same': 1, 'A': 1, 'laughed': 1, 'a': 1, 'cried': 1, 'most': 1, 'were': 1, 'silent': 1, 'remembered': 1, 'line': 1, 'from': 1, 'Hindu': 1, 'scripture': 1, 'BhagavadGita': 1, 'Vishnu': 1, 'is': 1, 'trying': 1, 'persuade': 1, 'Prince': 1, 'he': 1, 'should': 1, 'do': 1, 'duty': 1, 'impress': 1, 'him': 1, 'takes': 1, 'on': 1, 'multiarmed': 1, 'form': 1, 'says': 1, 'Now': 1, 'am': 1, 'become': 1, 'Death': 1, 'destroyer': 1, 'of': 1, 'worlds': 1, 'suppose': 1, 'we': 1, 'all': 1, 'thought': 1, 'one': 1, 'way': 1, 'or': 1, 'another': 1}\n",
      "the top 5 most frequent words: ['the', 'people', 'I', 'few', 'to']\n"
     ]
    }
   ],
   "source": [
    "import re\n",
    "\n",
    "# remove punctuations and spilt\n",
    "def str_to_words(string):\n",
    "    res = re.sub(r'[^\\w\\s]', '', string)\n",
    "    return res.split(' ')\n",
    "\n",
    "def freq(list):\n",
    "    counts = dict()\n",
    "    for i in list:\n",
    "        if i in counts:\n",
    "            counts[i] += 1\n",
    "        else:\n",
    "            counts[i] = 1\n",
    "    return counts\n",
    "\n",
    "list_of_words = str_to_words(\"We knew the world would not be the same. A few people laughed, a few people cried, most people were silent. I remembered the line from the Hindu scripture, the Bhagavad-Gita. Vishnu is trying to persuade the Prince that he should do his duty and to impress him takes on his multi-armed form and says, “Now, I am become Death, the destroyer of worlds.” I suppose we all thought that one way or another.\")\n",
    "freq_of_words = freq(list_of_words)\n",
    "freq_of_words = sorted(freq_of_words.items(), key=lambda x: x[1], reverse=True)\n",
    "freq_of_words = dict(freq_of_words)\n",
    "print(freq_of_words)\n",
    "top_words = freq_of_words.keys()\n",
    "print('the top 5 most frequent words:', list(top_words)[:5])"
   ]
  },
  {
   "cell_type": "markdown",
   "metadata": {},
   "source": [
    "### Exercise 10: Dictionary Filtering\n",
    "<p>Create a dictionary of students' names and their corresponding grades.<br>\n",
    "Filter the dictionary to create a new dictionary containing only students who received 'A' grades.</p>\n"
   ]
  },
  {
   "cell_type": "code",
   "execution_count": 364,
   "metadata": {},
   "outputs": [
    {
     "name": "stdout",
     "output_type": "stream",
     "text": [
      "A grade students: ['John', 'Peter', 'Jack']\n"
     ]
    }
   ],
   "source": [
    "def is_a_grade(stu):\n",
    "    return stu[1] == \"A\"\n",
    "\n",
    "students = {\n",
    "    \"John\": \"A\",\n",
    "    \"Bob\": \"B\",\n",
    "    \"Peter\": \"A\",\n",
    "    \"Mary\": \"C\",\n",
    "    \"Jack\": \"A\",\n",
    "}\n",
    "\n",
    "a_students = filter(is_a_grade, students.items())\n",
    "\n",
    "print('A grade students:', list(dict(a_students).keys()))"
   ]
  }
 ],
 "metadata": {
  "kernelspec": {
   "display_name": "Python 3",
   "language": "python",
   "name": "python3"
  },
  "language_info": {
   "codemirror_mode": {
    "name": "ipython",
    "version": 3
   },
   "file_extension": ".py",
   "mimetype": "text/x-python",
   "name": "python",
   "nbconvert_exporter": "python",
   "pygments_lexer": "ipython3",
   "version": "3.11.5"
  },
  "orig_nbformat": 4
 },
 "nbformat": 4,
 "nbformat_minor": 2
}
