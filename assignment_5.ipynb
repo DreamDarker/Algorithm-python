{
 "cells": [
  {
   "cell_type": "markdown",
   "metadata": {},
   "source": [
    "## Assignment V: Object Oriented Programming\n",
    "### Problem  1: Creating a Class\n",
    "Create a Python class called __Rectangle__ with the following attributes and methods:\n",
    "1. Attributes:\n",
    "  + __width__ (integer)\n",
    "  + __height__ (integer)\n",
    "2. Methods:\n",
    "  + __area()__ - Calculate and return the area of the rectangle.\n",
    "  + __perimeter()__ - Calculate and return the perimeter of the rectangle.\n"
   ]
  },
  {
   "cell_type": "code",
   "execution_count": 3,
   "metadata": {},
   "outputs": [],
   "source": [
    "class Rectangle:\n",
    "    def __init__(self, width, height):\n",
    "        self.width = width\n",
    "        self.height = height\n",
    "\n",
    "    def area(self):\n",
    "        return self.width * self.height\n",
    "\n",
    "    def perimeter(self):\n",
    "        return 2 * (self.width + self.height)"
   ]
  },
  {
   "cell_type": "markdown",
   "metadata": {},
   "source": [
    "### Problem 2: Inheritance\n",
    "Create a base class called __Shape__ with an attribute __color__ (a string). Then create two subclasses, __Circle__ and __Rectangle__, that inherit from the __Shape__ class. Each subclass should have its own specific attributes and methods related to the respective shapes. For example, the __Circle__ class should have a radius attribute and a __calculate_area()__ method, and the __Rectangle__ class should have __width__ and __height__ attributes and a __calculate_area()__ method.\n"
   ]
  },
  {
   "cell_type": "code",
   "execution_count": 4,
   "metadata": {},
   "outputs": [],
   "source": [
    "class Shape:\n",
    "    def __init__(self, color):\n",
    "        self.color = color\n",
    "\n",
    "class Circle(Shape):\n",
    "    def __init__(self, color, radius):\n",
    "        super().__init__(color)\n",
    "        self.radius = radius\n",
    "\n",
    "    def calculate_area(self):\n",
    "        return 3.14 * (self.radius ** 2)\n",
    "\n",
    "class Rectangle(Shape):\n",
    "    def __init__(self, color, width, height):\n",
    "        super().__init__(color)\n",
    "        self.width = width\n",
    "        self.height = height\n",
    "\n",
    "    def calculate_area(self):\n",
    "        return self.width * self.height"
   ]
  },
  {
   "cell_type": "markdown",
   "metadata": {},
   "source": [
    "### Problem  3: Encapsulation\n",
    "Create a Python class called BankAccount with the following attributes and methods:\n",
    "1. Attributes:\n",
    "+ __account_number__ (string)\n",
    "+ __balance__ (float)\n",
    "2. Methods:\n",
    "+ __deposit(amount)__ - Add the given amount to the balance.\n",
    "+ __withdraw(amount)__ - Subtract the given amount from the balance.\n",
    "+ __get_balance()__ - Return the current balance.\n",
    "+ __get_account_info()__ - Return a string that includes the account number and balance.\n",
    "\n",
    "Ensure that the balance attribute is not directly accessible from outside the class but can be modified through the deposit and withdraw methods.\n"
   ]
  },
  {
   "cell_type": "code",
   "execution_count": 5,
   "metadata": {},
   "outputs": [],
   "source": [
    "class BankAccount:\n",
    "    def __init__(self, account_number, balance=0.0):\n",
    "        self.__account_number = account_number\n",
    "        self.__balance = balance\n",
    "\n",
    "    def deposit(self, amount):\n",
    "        self.__balance += amount\n",
    "\n",
    "    def withdraw(self, amount):\n",
    "        if amount > self.__balance:\n",
    "            print(\"Insufficient balance!\")\n",
    "        else:\n",
    "            self.__balance -= amount\n",
    "\n",
    "    def get_balance(self):\n",
    "        return self.__balance\n",
    "\n",
    "    def get_account_info(self):\n",
    "        return f\"Account Number: {self.__account_number}, Balance: {self.__balance}\""
   ]
  },
  {
   "cell_type": "markdown",
   "metadata": {},
   "source": [
    "### Problem 4: Composition\n",
    "Create a class called __Library__ that contains a list of __Book__ objects. Each __Book__ object should have attributes like title, author, and ISBN. The __Library__ class should have methods to add a book, remove a book, and list all the books in the library. Make the main progm with a while True: loop that gives the user options for actions such as borrow a book, return a book, add a book to the library, etc.\n"
   ]
  },
  {
   "cell_type": "code",
   "execution_count": 2,
   "metadata": {},
   "outputs": [
    {
     "name": "stdout",
     "output_type": "stream",
     "text": [
      "1. Add a book\n",
      "2. Remove a book\n",
      "3. List all books\n",
      "4. Quit\n",
      "Choose an option: 1\n",
      "\n",
      "\n",
      "1. Add a book\n",
      "2. Remove a book\n",
      "3. List all books\n",
      "4. Quit\n",
      "Choose an option: 3\n",
      "Title: Sun, Author: Dre4m, ISBN: 20171758\n",
      "\n",
      "\n",
      "1. Add a book\n",
      "2. Remove a book\n",
      "3. List all books\n",
      "4. Quit\n",
      "Choose an option: 2\n",
      "\n",
      "\n",
      "1. Add a book\n",
      "2. Remove a book\n",
      "3. List all books\n",
      "4. Quit\n",
      "Choose an option: 4\n"
     ]
    }
   ],
   "source": [
    "class Book:\n",
    "    def __init__(self, title, author, isbn):\n",
    "        self.title = title\n",
    "        self.author = author\n",
    "        self.isbn = isbn\n",
    "\n",
    "class Library:\n",
    "    def __init__(self):\n",
    "        self.books = []\n",
    "\n",
    "    def add_book(self, book):\n",
    "        self.books.append(book)\n",
    "\n",
    "    def remove_book(self, isbn):\n",
    "        for book in self.books:\n",
    "            if book.isbn == isbn:\n",
    "                self.books.remove(book)\n",
    "                break\n",
    "\n",
    "    def list_books(self):\n",
    "        for book in self.books:\n",
    "            print(f\"Title: {book.title}, Author: {book.author}, ISBN: {book.isbn}\")\n",
    "\n",
    "def main():\n",
    "    library = Library()\n",
    "    while True:\n",
    "        print(\"1. Add a book\")\n",
    "        print(\"2. Remove a book\")\n",
    "        print(\"3. List all books\")\n",
    "        print(\"4. Quit\")\n",
    "        choice = input(\"Choose an option: \")\n",
    "        print(f\"Choose an option: {choice}\")\n",
    "        if choice == \"1\":\n",
    "            title = input(\"Enter the title of the book: \")\n",
    "            author = input(\"Enter the author of the book: \")\n",
    "            isbn = input(\"Enter the ISBN of the book: \")\n",
    "            book = Book(title, author, isbn)\n",
    "            library.add_book(book)\n",
    "        elif choice == \"2\":\n",
    "            isbn = input(\"Enter the ISBN of the book to remove: \")\n",
    "            library.remove_book(isbn)\n",
    "        elif choice == \"3\":\n",
    "            library.list_books()\n",
    "        elif choice == \"4\":\n",
    "            break\n",
    "        else:\n",
    "            print(\"Invalid choice. Please try again.\")\n",
    "        print('\\n')\n",
    "\n",
    "if __name__ == \"__main__\":\n",
    "    main()"
   ]
  }
 ],
 "metadata": {
  "kernelspec": {
   "display_name": "code",
   "language": "python",
   "name": "python3"
  },
  "language_info": {
   "codemirror_mode": {
    "name": "ipython",
    "version": 3
   },
   "file_extension": ".py",
   "mimetype": "text/x-python",
   "name": "python",
   "nbconvert_exporter": "python",
   "pygments_lexer": "ipython3",
   "version": "3.11.5"
  }
 },
 "nbformat": 4,
 "nbformat_minor": 2
}
