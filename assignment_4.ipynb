{
 "cells": [
  {
   "cell_type": "markdown",
   "metadata": {},
   "source": [
    "### Assignment IV\n",
    "\n",
    "### Choose two problems from each section. \n",
    "\n",
    "#### Function Exercises:\n",
    "\n",
    "1.\tCreate a function that accepts a list of numbers and returns the sum of all even numbers in the list.\n"
   ]
  },
  {
   "cell_type": "code",
   "execution_count": 31,
   "metadata": {},
   "outputs": [
    {
     "name": "stdout",
     "output_type": "stream",
     "text": [
      "The random numbers are: [87, 83, 68, 88, 2, 37, 69, 88, 99, 28, 1, 79, 99, 20, 26, 35, 60, 36, 40, 43]\n",
      "The sum of even numbers is: 456\n"
     ]
    }
   ],
   "source": [
    "import random\n",
    "\n",
    "# Create a list with 20 random numbers in range(1,101)\n",
    "random_numbers = [random.randint(1, 101) for _ in range(20)]\n",
    "\n",
    "def sum_even_numbers(numbers):\n",
    "    \"\"\"This function accepts a list and returns the sum of all even numbers in the list.\"\"\"\n",
    "    return sum(num for num in numbers if num % 2 == 0)\n",
    "\n",
    "# Call the function with the list of random numbers\n",
    "sum_of_evens = sum_even_numbers(random_numbers)\n",
    "\n",
    "print(f\"The random numbers are: {random_numbers}\")\n",
    "print(f\"The sum of even numbers is: {sum_of_evens}\")"
   ]
  },
  {
   "cell_type": "markdown",
   "metadata": {},
   "source": [
    "2.\tWrite a function that takes a string and counts the number of vowels (a, e, i, o, u) in it."
   ]
  },
  {
   "cell_type": "code",
   "execution_count": 32,
   "metadata": {},
   "outputs": [
    {
     "name": "stdout",
     "output_type": "stream",
     "text": [
      "The string is: Hello, World!\n",
      "The number of vowels is: 3\n"
     ]
    }
   ],
   "source": [
    "def count_vowels(s):\n",
    "    \"\"\"This function accepts a string and returns the count of vowels in it.\"\"\"\n",
    "    vowels = 'aeiou'\n",
    "    return sum(1 for char in s.lower() if char in vowels)\n",
    "\n",
    "s = \"Hello, World!\"\n",
    "print(f\"The string is: {s}\")\n",
    "print(f\"The number of vowels is: {count_vowels(s)}\")"
   ]
  },
  {
   "cell_type": "markdown",
   "metadata": {},
   "source": [
    "3.\tImplement a function that finds the maximum element in a list of numbers."
   ]
  },
  {
   "cell_type": "code",
   "execution_count": 33,
   "metadata": {},
   "outputs": [
    {
     "name": "stdout",
     "output_type": "stream",
     "text": [
      "The list of numbers is: [39, 21, 63, 86, 45, 23, 64, 93, 46, 53, 66, 11, 24, 22, 60, 26, 39, 26, 93, 20]\n",
      "The maximum number is: 93\n"
     ]
    }
   ],
   "source": [
    "import random\n",
    "\n",
    "# Create a list with 20 random numbers in range(1,101)\n",
    "random_numbers = [random.randint(1, 101) for _ in range(20)]\n",
    "\n",
    "def find_max(numbers):\n",
    "    \"\"\"This function accepts a list of numbers and returns the maximum number in it.\"\"\"\n",
    "    return max(numbers)\n",
    "\n",
    "print(f\"The list of numbers is: {random_numbers}\")\n",
    "print(f\"The maximum number is: {find_max(random_numbers)}\")"
   ]
  },
  {
   "cell_type": "markdown",
   "metadata": {},
   "source": [
    "4.\tCreate a function that takes a list of words and returns a new list containing the length of each word."
   ]
  },
  {
   "cell_type": "code",
   "execution_count": 34,
   "metadata": {},
   "outputs": [
    {
     "name": "stdout",
     "output_type": "stream",
     "text": [
      "The list of words is: ['Hello', 'World', 'Python', 'Programming']\n",
      "The lengths of the words are: [5, 5, 6, 11]\n"
     ]
    }
   ],
   "source": [
    "def word_lengths(words):\n",
    "    \"\"\"This function accepts a list of words and returns a new list containing the length of each word.\"\"\"\n",
    "    return [len(word) for word in words]\n",
    "\n",
    "words = [\"Hello\", \"World\", \"Python\", \"Programming\"]\n",
    "print(f\"The list of words is: {words}\")\n",
    "print(f\"The lengths of the words are: {word_lengths(words)}\")"
   ]
  },
  {
   "cell_type": "markdown",
   "metadata": {},
   "source": [
    "5.\tWrite a function that checks if a given string is a palindrome (reads the same forwards and backward)."
   ]
  },
  {
   "cell_type": "code",
   "execution_count": 35,
   "metadata": {},
   "outputs": [
    {
     "name": "stdout",
     "output_type": "stream",
     "text": [
      "The word 'TENET' is a palindrome: True\n"
     ]
    }
   ],
   "source": [
    "def is_palindrome(s):\n",
    "    \"\"\"This function checks if a given string is a palindrome.\"\"\"\n",
    "    return s == s[::-1]\n",
    "\n",
    "word = \"TENET\"\n",
    "print(f\"The word '{word}' is a palindrome: {is_palindrome(word)}\")\n"
   ]
  },
  {
   "cell_type": "markdown",
   "metadata": {},
   "source": [
    "6.\tImplement a function that accepts a list of integers and returns a new list with all unique values."
   ]
  },
  {
   "cell_type": "code",
   "execution_count": 36,
   "metadata": {},
   "outputs": [
    {
     "name": "stdout",
     "output_type": "stream",
     "text": [
      "The original list is: [11, 10, 17, 2, 21, 5, 8, 13, 6, 12, 7, 9, 14, 14, 8, 9, 9, 17, 13, 9]\n",
      "The list with unique values is: [2, 5, 6, 7, 8, 9, 10, 11, 12, 13, 14, 17, 21]\n"
     ]
    }
   ],
   "source": [
    "import random\n",
    "\n",
    "random_numbers = [random.randint(1, 21) for _ in range(20)]\n",
    "\n",
    "def unique_values(lst):\n",
    "    \"\"\"This function accepts a list of integers and returns a new list with all unique values.\"\"\"\n",
    "    return list(set(lst))\n",
    "\n",
    "print(f\"The original list is: {random_numbers}\")\n",
    "print(f\"The list with unique values is: {unique_values(random_numbers)}\")"
   ]
  },
  {
   "cell_type": "markdown",
   "metadata": {},
   "source": [
    "### Advanced Exercises:\n",
    "\n",
    "1.\tCreate a function to calculate the power of a number using recursion (e.g., power(2, 3) = 8).\n"
   ]
  },
  {
   "cell_type": "code",
   "execution_count": 37,
   "metadata": {},
   "outputs": [
    {
     "name": "stdout",
     "output_type": "stream",
     "text": [
      "The result of 6 to the power of 5 is: 7776\n"
     ]
    }
   ],
   "source": [
    "def power(base, exponent):\n",
    "    \"\"\"This function calculates the power of a number using recursion.\"\"\"\n",
    "    # Base case: if the exponent is 0, return 1\n",
    "    if exponent == 0:\n",
    "        return 1\n",
    "    # Recursive case: multiply the base by the result of the function called with the exponent decreased by 1\n",
    "    else:\n",
    "        return base * power(base, exponent - 1)\n",
    "\n",
    "base = random.randint(1, 6)\n",
    "exp = random.randint(2, 10)\n",
    "print(f\"The result of {base} to the power of {exp} is: {power(base, exp)}\")\n"
   ]
  },
  {
   "cell_type": "markdown",
   "metadata": {},
   "source": [
    "2.\tWrite a function to calculate the nth term of the geometric sequence using recursion."
   ]
  },
  {
   "cell_type": "code",
   "execution_count": 38,
   "metadata": {},
   "outputs": [
    {
     "name": "stdout",
     "output_type": "stream",
     "text": [
      "The 4th term of the geometric sequence with first term 2 and common ratio 3 is: 54\n"
     ]
    }
   ],
   "source": [
    "def geometric_sequence_term(a, r, n):\n",
    "    \"\"\"This function calculates the nth term of a geometric sequence using recursion.\"\"\"\n",
    "    # Base case: if n is 1, return the first term a\n",
    "    if n == 1:\n",
    "        return a\n",
    "    # Recursive case: multiply the common ratio r by the result of the function called with n decreased by 1\n",
    "    else:\n",
    "        return r * geometric_sequence_term(a, r, n - 1)\n",
    "\n",
    "print(f\"The 4th term of the geometric sequence with first term 2 and common ratio 3 is: {geometric_sequence_term(2, 3, 4)}\")"
   ]
  },
  {
   "cell_type": "markdown",
   "metadata": {},
   "source": [
    "3.\tImplement a recursive function to generate all possible permutations of a list of elements."
   ]
  },
  {
   "cell_type": "code",
   "execution_count": 39,
   "metadata": {},
   "outputs": [
    {
     "name": "stdout",
     "output_type": "stream",
     "text": [
      "[5, 2, 3, 1]\n",
      "[5, 2, 1, 3]\n",
      "[5, 3, 2, 1]\n",
      "[5, 3, 1, 2]\n",
      "[5, 1, 2, 3]\n",
      "[5, 1, 3, 2]\n",
      "[2, 5, 3, 1]\n",
      "[2, 5, 1, 3]\n",
      "[2, 3, 5, 1]\n",
      "[2, 3, 1, 5]\n",
      "[2, 1, 5, 3]\n",
      "[2, 1, 3, 5]\n",
      "[3, 5, 2, 1]\n",
      "[3, 5, 1, 2]\n",
      "[3, 2, 5, 1]\n",
      "[3, 2, 1, 5]\n",
      "[3, 1, 5, 2]\n",
      "[3, 1, 2, 5]\n",
      "[1, 5, 2, 3]\n",
      "[1, 5, 3, 2]\n",
      "[1, 2, 5, 3]\n",
      "[1, 2, 3, 5]\n",
      "[1, 3, 5, 2]\n",
      "[1, 3, 2, 5]\n"
     ]
    }
   ],
   "source": [
    "import random\n",
    "\n",
    "random_numbers = random.sample(range(1, 11), 4)\n",
    "\n",
    "def permutations(lst):\n",
    "    \"\"\"Generate all permutations of a list.\"\"\"\n",
    "    # If lst is empty then there are no permutations\n",
    "    if len(lst) == 0:\n",
    "        return []\n",
    "\n",
    "    # If there is only one element in lst then, only one permutation is possible\n",
    "    if len(lst) == 1:\n",
    "        return [lst]\n",
    "\n",
    "    # Permute the elements\n",
    "    l = []  # empty list that will store current permutation\n",
    "\n",
    "    # Iterate the input(lst) and calculate the permutation\n",
    "    for i in range(len(lst)):\n",
    "        m = lst[i]\n",
    "\n",
    "        # Remaining list\n",
    "        rem_list = lst[:i] + lst[i+1:]\n",
    "\n",
    "        # Generating permutation using the remaining list\n",
    "        for p in permutations(rem_list):\n",
    "            l.append([m] + p)\n",
    "    return l\n",
    "\n",
    "for p in permutations(random_numbers):\n",
    "    print(p)"
   ]
  }
 ],
 "metadata": {
  "kernelspec": {
   "display_name": "code",
   "language": "python",
   "name": "python3"
  },
  "language_info": {
   "codemirror_mode": {
    "name": "ipython",
    "version": 3
   },
   "file_extension": ".py",
   "mimetype": "text/x-python",
   "name": "python",
   "nbconvert_exporter": "python",
   "pygments_lexer": "ipython3",
   "version": "3.11.5"
  }
 },
 "nbformat": 4,
 "nbformat_minor": 2
}
